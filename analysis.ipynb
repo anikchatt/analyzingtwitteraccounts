{
 "metadata": {
  "language_info": {
   "codemirror_mode": {
    "name": "ipython",
    "version": 3
   },
   "file_extension": ".py",
   "mimetype": "text/x-python",
   "name": "python",
   "nbconvert_exporter": "python",
   "pygments_lexer": "ipython3",
   "version": "3.8.5-final"
  },
  "orig_nbformat": 2,
  "kernelspec": {
   "name": "python_defaultSpec_1599530341162",
   "display_name": "Python 3.8.5 64-bit ('env': venv)"
  }
 },
 "nbformat": 4,
 "nbformat_minor": 2,
 "cells": [
  {
   "cell_type": "code",
   "execution_count": 1,
   "metadata": {
    "tags": []
   },
   "outputs": [
    {
     "output_type": "execute_result",
     "data": {
      "text/plain": "   Unnamed: 0  twitter_profile             tweet_id            creation  \\\n0           0  stoolpresidente  1303088213465149441 2020-09-07 21:50:14   \n1           1  stoolpresidente  1303018524365987844 2020-09-07 17:13:19   \n2           2  stoolpresidente  1302996071526928386 2020-09-07 15:44:06   \n3           3  stoolpresidente  1302958816355667970 2020-09-07 13:16:04   \n4           4  stoolpresidente  1302935877627281411 2020-09-07 11:44:55   \n\n                                                text  favorites replying_to  \\\n0  I could give this exact speech to all of @bars...       8214         NaN   \n1             @twitterrabuse https://t.co/rbTXm3kuOd        644         NaN   \n2  RT @jerrythornton1: Cam Newton Calls Playing f...          0         NaN   \n3                                         #Bitcoin 🙀       2902         NaN   \n4      It’s football season. https://t.co/T0Ucq74ymu       6979         NaN   \n\n   retweets  total_followers  \n0       532          1805005  \n1        11          1805005  \n2        58          1805005  \n3       137          1805005  \n4       559          1805005  ",
      "text/html": "<div>\n<style scoped>\n    .dataframe tbody tr th:only-of-type {\n        vertical-align: middle;\n    }\n\n    .dataframe tbody tr th {\n        vertical-align: top;\n    }\n\n    .dataframe thead th {\n        text-align: right;\n    }\n</style>\n<table border=\"1\" class=\"dataframe\">\n  <thead>\n    <tr style=\"text-align: right;\">\n      <th></th>\n      <th>Unnamed: 0</th>\n      <th>twitter_profile</th>\n      <th>tweet_id</th>\n      <th>creation</th>\n      <th>text</th>\n      <th>favorites</th>\n      <th>replying_to</th>\n      <th>retweets</th>\n      <th>total_followers</th>\n    </tr>\n  </thead>\n  <tbody>\n    <tr>\n      <th>0</th>\n      <td>0</td>\n      <td>stoolpresidente</td>\n      <td>1303088213465149441</td>\n      <td>2020-09-07 21:50:14</td>\n      <td>I could give this exact speech to all of @bars...</td>\n      <td>8214</td>\n      <td>NaN</td>\n      <td>532</td>\n      <td>1805005</td>\n    </tr>\n    <tr>\n      <th>1</th>\n      <td>1</td>\n      <td>stoolpresidente</td>\n      <td>1303018524365987844</td>\n      <td>2020-09-07 17:13:19</td>\n      <td>@twitterrabuse https://t.co/rbTXm3kuOd</td>\n      <td>644</td>\n      <td>NaN</td>\n      <td>11</td>\n      <td>1805005</td>\n    </tr>\n    <tr>\n      <th>2</th>\n      <td>2</td>\n      <td>stoolpresidente</td>\n      <td>1302996071526928386</td>\n      <td>2020-09-07 15:44:06</td>\n      <td>RT @jerrythornton1: Cam Newton Calls Playing f...</td>\n      <td>0</td>\n      <td>NaN</td>\n      <td>58</td>\n      <td>1805005</td>\n    </tr>\n    <tr>\n      <th>3</th>\n      <td>3</td>\n      <td>stoolpresidente</td>\n      <td>1302958816355667970</td>\n      <td>2020-09-07 13:16:04</td>\n      <td>#Bitcoin 🙀</td>\n      <td>2902</td>\n      <td>NaN</td>\n      <td>137</td>\n      <td>1805005</td>\n    </tr>\n    <tr>\n      <th>4</th>\n      <td>4</td>\n      <td>stoolpresidente</td>\n      <td>1302935877627281411</td>\n      <td>2020-09-07 11:44:55</td>\n      <td>It’s football season. https://t.co/T0Ucq74ymu</td>\n      <td>6979</td>\n      <td>NaN</td>\n      <td>559</td>\n      <td>1805005</td>\n    </tr>\n  </tbody>\n</table>\n</div>"
     },
     "metadata": {},
     "execution_count": 1
    }
   ],
   "source": [
    "import pandas as pd \n",
    "import numpy as np\n",
    "excel = 'data.xlsx'\n",
    "df = pd.read_excel(excel)\n",
    "df.head()"
   ]
  },
  {
   "cell_type": "code",
   "execution_count": 2,
   "metadata": {},
   "outputs": [],
   "source": [
    "profile_list = df['twitter_profile'].unique().tolist()\n",
    "profile_mapping = {'stoolpresidente':'Barstool' ,\n",
    " 'EKANardini':'Barstool' ,\n",
    " 'BarstoolBigCat':'Barstool' ,\n",
    " 'PFTCommenter':'Barstool',\n",
    " 'KFCBarstool':'Barstool',\n",
    " 'Return_Of_RB':'Barstool',\n",
    " 'paulloduca16':'Barstool',\n",
    " 'DanaB_Number3':'Barstool',\n",
    " 'TomScibelli':'Barstool',\n",
    " 'marty_mush':'Barstool',\n",
    " 'ChrisRyan77':'The Ringer',\n",
    " 'netw3rk':'The Ringer',\n",
    " 'BillSimmons':'The Ringer',\n",
    " 'micahpeters_':'The Ringer',\n",
    " 'MalloryRubin':'The Ringer'}\n",
    "\n",
    "df['Company'] = df['twitter_profile'].map(profile_mapping)"
   ]
  },
  {
   "cell_type": "markdown",
   "metadata": {},
   "source": [
    "The data that is being used for the following analysis is a look at each individuals last 3,200 tweets. The below takes a look at each twitter profile and returns: their average number of favorites, retweets, ratio of favorites to their respective twitter following, and ratio of retweets to their respective twitter following . It is interesting to see that Dana B, who is not involved in the content side of barstool gets the most engagement* from his twitter following. \n",
    "\n",
    "*engagement is \"This is an enterprise API available within our managed access levels only. To use this API, you must first set up an account with our enterprise sales team.\" and is truly derived as \"The Engagement API provides access to Tweet impression and engagement metrics.\" https://developer.twitter.com/en/docs/twitter-api/v1/metrics/get-tweet-engagement/overview\n",
    "\n",
    "Analysis for true engagement may be better suited if enterprise API was made available, but for now this will do. "
   ]
  },
  {
   "cell_type": "code",
   "execution_count": 3,
   "metadata": {},
   "outputs": [
    {
     "output_type": "execute_result",
     "data": {
      "text/plain": "                   favorites     retweets  fav_to_followers_ratio  \\\ntwitter_profile                                                     \nDanaB_Number3     701.665736    44.877209                0.004656   \nnetw3rk           861.236760  1014.452648                0.003679   \nmarty_mush        596.009254    53.995065                0.003118   \nmicahpeters_       87.214803  2121.578268                0.002814   \nTomScibelli       346.252022    39.203485                0.002663   \nstoolpresidente  4653.894998   394.327742                0.002578   \nPFTCommenter     1557.508268   125.150390                0.002022   \nEKANardini        333.800997   147.151666                0.001642   \nKFCBarstool       560.171953   388.717040                0.001425   \nMalloryRubin      194.550541   550.679444                0.001417   \nBarstoolBigCat   1394.484322   178.650109                0.001264   \npaulloduca16       73.357026    73.900554                0.000918   \nReturn_Of_RB       28.868193     9.452970                0.000618   \nChrisRyan77        34.680672    23.638967                0.000269   \nBillSimmons       898.482759   196.097970                0.000155   \n\n                 rt_to_followers_ratio  \ntwitter_profile                         \nDanaB_Number3                 0.000298  \nnetw3rk                       0.004334  \nmarty_mush                    0.000282  \nmicahpeters_                  0.068442  \nTomScibelli                   0.000302  \nstoolpresidente               0.000218  \nPFTCommenter                  0.000162  \nEKANardini                    0.000724  \nKFCBarstool                   0.000989  \nMalloryRubin                  0.004011  \nBarstoolBigCat                0.000162  \npaulloduca16                  0.000925  \nReturn_Of_RB                  0.000202  \nChrisRyan77                   0.000183  \nBillSimmons                   0.000034  ",
      "text/html": "<div>\n<style scoped>\n    .dataframe tbody tr th:only-of-type {\n        vertical-align: middle;\n    }\n\n    .dataframe tbody tr th {\n        vertical-align: top;\n    }\n\n    .dataframe thead th {\n        text-align: right;\n    }\n</style>\n<table border=\"1\" class=\"dataframe\">\n  <thead>\n    <tr style=\"text-align: right;\">\n      <th></th>\n      <th>favorites</th>\n      <th>retweets</th>\n      <th>fav_to_followers_ratio</th>\n      <th>rt_to_followers_ratio</th>\n    </tr>\n    <tr>\n      <th>twitter_profile</th>\n      <th></th>\n      <th></th>\n      <th></th>\n      <th></th>\n    </tr>\n  </thead>\n  <tbody>\n    <tr>\n      <th>DanaB_Number3</th>\n      <td>701.665736</td>\n      <td>44.877209</td>\n      <td>0.004656</td>\n      <td>0.000298</td>\n    </tr>\n    <tr>\n      <th>netw3rk</th>\n      <td>861.236760</td>\n      <td>1014.452648</td>\n      <td>0.003679</td>\n      <td>0.004334</td>\n    </tr>\n    <tr>\n      <th>marty_mush</th>\n      <td>596.009254</td>\n      <td>53.995065</td>\n      <td>0.003118</td>\n      <td>0.000282</td>\n    </tr>\n    <tr>\n      <th>micahpeters_</th>\n      <td>87.214803</td>\n      <td>2121.578268</td>\n      <td>0.002814</td>\n      <td>0.068442</td>\n    </tr>\n    <tr>\n      <th>TomScibelli</th>\n      <td>346.252022</td>\n      <td>39.203485</td>\n      <td>0.002663</td>\n      <td>0.000302</td>\n    </tr>\n    <tr>\n      <th>stoolpresidente</th>\n      <td>4653.894998</td>\n      <td>394.327742</td>\n      <td>0.002578</td>\n      <td>0.000218</td>\n    </tr>\n    <tr>\n      <th>PFTCommenter</th>\n      <td>1557.508268</td>\n      <td>125.150390</td>\n      <td>0.002022</td>\n      <td>0.000162</td>\n    </tr>\n    <tr>\n      <th>EKANardini</th>\n      <td>333.800997</td>\n      <td>147.151666</td>\n      <td>0.001642</td>\n      <td>0.000724</td>\n    </tr>\n    <tr>\n      <th>KFCBarstool</th>\n      <td>560.171953</td>\n      <td>388.717040</td>\n      <td>0.001425</td>\n      <td>0.000989</td>\n    </tr>\n    <tr>\n      <th>MalloryRubin</th>\n      <td>194.550541</td>\n      <td>550.679444</td>\n      <td>0.001417</td>\n      <td>0.004011</td>\n    </tr>\n    <tr>\n      <th>BarstoolBigCat</th>\n      <td>1394.484322</td>\n      <td>178.650109</td>\n      <td>0.001264</td>\n      <td>0.000162</td>\n    </tr>\n    <tr>\n      <th>paulloduca16</th>\n      <td>73.357026</td>\n      <td>73.900554</td>\n      <td>0.000918</td>\n      <td>0.000925</td>\n    </tr>\n    <tr>\n      <th>Return_Of_RB</th>\n      <td>28.868193</td>\n      <td>9.452970</td>\n      <td>0.000618</td>\n      <td>0.000202</td>\n    </tr>\n    <tr>\n      <th>ChrisRyan77</th>\n      <td>34.680672</td>\n      <td>23.638967</td>\n      <td>0.000269</td>\n      <td>0.000183</td>\n    </tr>\n    <tr>\n      <th>BillSimmons</th>\n      <td>898.482759</td>\n      <td>196.097970</td>\n      <td>0.000155</td>\n      <td>0.000034</td>\n    </tr>\n  </tbody>\n</table>\n</div>"
     },
     "metadata": {},
     "execution_count": 3
    }
   ],
   "source": [
    "df['fav_to_followers_ratio'] = df['favorites'] / df['total_followers']\n",
    "df['rt_to_followers_ratio'] = df['retweets'] / df['total_followers']\n",
    "df.groupby('twitter_profile').agg({'favorites':'mean','retweets':'mean','fav_to_followers_ratio':'mean','rt_to_followers_ratio':'mean'}).sort_values(by='fav_to_followers_ratio',ascending=False)"
   ]
  },
  {
   "cell_type": "markdown",
   "metadata": {},
   "source": [
    "The below is showing the time range for each individual twitter account. It is clearly evident from the data that The Ringer's personalities do not tweet as often as a personality from Barstool. The oldest tweet from a Barstool employee that is being examined, is 06/26/2019, which is from CEO, Erika Nardini. The oldest tweet from a Ringer employee, is 06/26/17, which is from Editoral Director, Chris Ryan. "
   ]
  },
  {
   "cell_type": "code",
   "execution_count": 4,
   "metadata": {
    "tags": []
   },
   "outputs": [
    {
     "output_type": "stream",
     "name": "stdout",
     "text": "stoolpresidente oldest tweet was from 2020-02-19 19:12:42, and newest tweet was from 2020-09-07 21:50:14\nEKANardini oldest tweet was from 2019-06-26 23:00:09, and newest tweet was from 2020-09-08 00:32:39\nBarstoolBigCat oldest tweet was from 2020-07-04 18:40:13, and newest tweet was from 2020-09-08 00:30:45\nPFTCommenter oldest tweet was from 2020-04-01 04:00:33, and newest tweet was from 2020-09-07 02:18:34\nKFCBarstool oldest tweet was from 2020-05-20 16:28:03, and newest tweet was from 2020-09-07 21:29:22\nReturn_Of_RB oldest tweet was from 2020-06-19 20:40:23, and newest tweet was from 2020-09-07 23:52:20\npaulloduca16 oldest tweet was from 2019-11-16 04:34:32, and newest tweet was from 2020-09-08 00:08:16\nDanaB_Number3 oldest tweet was from 2020-02-15 00:14:40, and newest tweet was from 2020-09-08 00:08:52\nTomScibelli oldest tweet was from 2019-08-23 15:26:40, and newest tweet was from 2020-09-07 17:25:21\nmarty_mush oldest tweet was from 2019-12-07 21:21:26, and newest tweet was from 2020-09-08 00:58:35\nChrisRyan77 oldest tweet was from 2017-06-26 16:32:41, and newest tweet was from 2020-09-07 21:55:05\nnetw3rk oldest tweet was from 2020-02-04 05:41:54, and newest tweet was from 2020-09-07 14:51:44\nBillSimmons oldest tweet was from 2019-06-08 03:11:09, and newest tweet was from 2020-09-07 04:05:18\nmicahpeters_ oldest tweet was from 2019-06-11 20:10:11, and newest tweet was from 2020-09-07 18:44:40\nMalloryRubin oldest tweet was from 2017-08-31 06:10:28, and newest tweet was from 2020-09-06 21:49:37\n"
    }
   ],
   "source": [
    "profiles = df['twitter_profile'].unique()\n",
    "for profile in profiles: \n",
    "    user = df[df['twitter_profile'] == profile]\n",
    "    oldest = user['creation'].min()\n",
    "    newest = user['creation'].max()\n",
    "    print(f\"{profile} oldest tweet was from {oldest}, and newest tweet was from {newest}\")"
   ]
  },
  {
   "cell_type": "markdown",
   "metadata": {},
   "source": [
    "Taking a look at the following for 5 employees from each company (Barstool: 'stoolpresidente','EKANardini','BarstoolBigCat','PFTCommenter','KFCBarstool') (The Ringer: 'ChrisRyan77','netw3rk','BillSimmons', 'micahpeters_', 'MalloryRubin'), The Ringer has ~20% more followers. \n",
    "\n",
    "The Ringer may have 20% more following, but it is evident that is mostly because of Bill Simmon's 5.8 million followers. Of all the Ringer employee's looked at, Simmon's makes up 92% of their following. Looking at Barstool's distribution of followers, Dave Portnoy makes up 42%. \n",
    "\n",
    "Looking more into these employee's individual profiles and their \"engagement\", Portnoy has 53% less followers than Bill Simmons, yet his average favorite and retweet per tweet exceed's Bill's by 3,800 and 400, respectively. It is important to note, you don't have to be following someone to be able to favorite their tweet. I still find it interesting that  Bill has 3x the amount of followers of Portnoy, yet he trails his average favorite/retweet count by 4x/2x. It could possibly be attributed to the fact that Bill doesn't really tweet out his takes or opinions as much as Dave. But when you have a media company, isn't the point to express your thoughts and feelings to the masses to garner engagement? "
   ]
  },
  {
   "cell_type": "code",
   "execution_count": 5,
   "metadata": {},
   "outputs": [
    {
     "output_type": "execute_result",
     "data": {
      "text/plain": "            total_followers\nCompany                    \nBarstool            4274801\nThe Ringer          6316292",
      "text/html": "<div>\n<style scoped>\n    .dataframe tbody tr th:only-of-type {\n        vertical-align: middle;\n    }\n\n    .dataframe tbody tr th {\n        vertical-align: top;\n    }\n\n    .dataframe thead th {\n        text-align: right;\n    }\n</style>\n<table border=\"1\" class=\"dataframe\">\n  <thead>\n    <tr style=\"text-align: right;\">\n      <th></th>\n      <th>total_followers</th>\n    </tr>\n    <tr>\n      <th>Company</th>\n      <th></th>\n    </tr>\n  </thead>\n  <tbody>\n    <tr>\n      <th>Barstool</th>\n      <td>4274801</td>\n    </tr>\n    <tr>\n      <th>The Ringer</th>\n      <td>6316292</td>\n    </tr>\n  </tbody>\n</table>\n</div>"
     },
     "metadata": {},
     "execution_count": 5
    }
   ],
   "source": [
    "top5 = ['stoolpresidente','EKANardini','BarstoolBigCat','PFTCommenter','KFCBarstool','ChrisRyan77','netw3rk','BillSimmons', 'micahpeters_', 'MalloryRubin']\n",
    "top5_df_foll = df[df['twitter_profile'].isin(top5)].drop_duplicates(subset='twitter_profile')\n",
    "top5_df_foll.groupby('Company').agg({'total_followers':'sum'})"
   ]
  },
  {
   "cell_type": "code",
   "execution_count": 26,
   "metadata": {},
   "outputs": [
    {
     "output_type": "execute_result",
     "data": {
      "text/plain": "       twitter_profile  %_following_for_co     Company  total_followers\n0      stoolpresidente           42.224305    Barstool          1805005\n3219        EKANardini            4.756736    Barstool           203341\n6430    BarstoolBigCat           25.798417    Barstool          1102831\n9651      PFTCommenter           18.022313    Barstool           770418\n12856      KFCBarstool            9.198229    Barstool           393206\n32052      ChrisRyan77            2.042812  The Ringer           129030\n35265          netw3rk            3.705813  The Ringer           234070\n38475      BillSimmons           91.587232  The Ringer          5784917\n41578     micahpeters_            0.490763  The Ringer            30998\n44753     MalloryRubin            2.173380  The Ringer           137277",
      "text/html": "<div>\n<style scoped>\n    .dataframe tbody tr th:only-of-type {\n        vertical-align: middle;\n    }\n\n    .dataframe tbody tr th {\n        vertical-align: top;\n    }\n\n    .dataframe thead th {\n        text-align: right;\n    }\n</style>\n<table border=\"1\" class=\"dataframe\">\n  <thead>\n    <tr style=\"text-align: right;\">\n      <th></th>\n      <th>twitter_profile</th>\n      <th>%_following_for_co</th>\n      <th>Company</th>\n      <th>total_followers</th>\n    </tr>\n  </thead>\n  <tbody>\n    <tr>\n      <th>0</th>\n      <td>stoolpresidente</td>\n      <td>42.224305</td>\n      <td>Barstool</td>\n      <td>1805005</td>\n    </tr>\n    <tr>\n      <th>3219</th>\n      <td>EKANardini</td>\n      <td>4.756736</td>\n      <td>Barstool</td>\n      <td>203341</td>\n    </tr>\n    <tr>\n      <th>6430</th>\n      <td>BarstoolBigCat</td>\n      <td>25.798417</td>\n      <td>Barstool</td>\n      <td>1102831</td>\n    </tr>\n    <tr>\n      <th>9651</th>\n      <td>PFTCommenter</td>\n      <td>18.022313</td>\n      <td>Barstool</td>\n      <td>770418</td>\n    </tr>\n    <tr>\n      <th>12856</th>\n      <td>KFCBarstool</td>\n      <td>9.198229</td>\n      <td>Barstool</td>\n      <td>393206</td>\n    </tr>\n    <tr>\n      <th>32052</th>\n      <td>ChrisRyan77</td>\n      <td>2.042812</td>\n      <td>The Ringer</td>\n      <td>129030</td>\n    </tr>\n    <tr>\n      <th>35265</th>\n      <td>netw3rk</td>\n      <td>3.705813</td>\n      <td>The Ringer</td>\n      <td>234070</td>\n    </tr>\n    <tr>\n      <th>38475</th>\n      <td>BillSimmons</td>\n      <td>91.587232</td>\n      <td>The Ringer</td>\n      <td>5784917</td>\n    </tr>\n    <tr>\n      <th>41578</th>\n      <td>micahpeters_</td>\n      <td>0.490763</td>\n      <td>The Ringer</td>\n      <td>30998</td>\n    </tr>\n    <tr>\n      <th>44753</th>\n      <td>MalloryRubin</td>\n      <td>2.173380</td>\n      <td>The Ringer</td>\n      <td>137277</td>\n    </tr>\n  </tbody>\n</table>\n</div>"
     },
     "metadata": {},
     "execution_count": 26
    }
   ],
   "source": [
    "total_stool = top5_df_foll[top5_df_foll['Company'].str.contains('Barstool')]['total_followers'].sum()\n",
    "total_ringer = top5_df_foll[top5_df_foll['Company'].str.contains('Ringer')]['total_followers'].sum()\n",
    "\n",
    "def normalize_perc(row):\n",
    "    if row['Company'] == 'Barstool':\n",
    "        return (row['total_followers']/total_stool) * 100\n",
    "    elif row['Company'] == 'The Ringer':\n",
    "        return (row['total_followers']/total_ringer) * 100    \n",
    "\n",
    "top5_df_foll['%_following_for_co'] = top5_df_foll.apply(lambda row: normalize_perc(row), axis=1)\n",
    "top5_df_foll[['twitter_profile','%_following_for_co','Company','total_followers']]"
   ]
  },
  {
   "cell_type": "code",
   "execution_count": 7,
   "metadata": {},
   "outputs": [
    {
     "output_type": "execute_result",
     "data": {
      "text/plain": "                   favorites     retweets  fav_to_followers_ratio  \\\ntwitter_profile                                                     \nstoolpresidente  4653.894998   394.327742                0.002578   \nPFTCommenter     1557.508268   125.150390                0.002022   \nBarstoolBigCat   1394.484322   178.650109                0.001264   \nBillSimmons       898.482759   196.097970                0.000155   \nnetw3rk           861.236760  1014.452648                0.003679   \nKFCBarstool       560.171953   388.717040                0.001425   \nEKANardini        333.800997   147.151666                0.001642   \nMalloryRubin      194.550541   550.679444                0.001417   \nmicahpeters_       87.214803  2121.578268                0.002814   \nChrisRyan77        34.680672    23.638967                0.000269   \n\n                 rt_to_followers_ratio  \ntwitter_profile                         \nstoolpresidente               0.000218  \nPFTCommenter                  0.000162  \nBarstoolBigCat                0.000162  \nBillSimmons                   0.000034  \nnetw3rk                       0.004334  \nKFCBarstool                   0.000989  \nEKANardini                    0.000724  \nMalloryRubin                  0.004011  \nmicahpeters_                  0.068442  \nChrisRyan77                   0.000183  ",
      "text/html": "<div>\n<style scoped>\n    .dataframe tbody tr th:only-of-type {\n        vertical-align: middle;\n    }\n\n    .dataframe tbody tr th {\n        vertical-align: top;\n    }\n\n    .dataframe thead th {\n        text-align: right;\n    }\n</style>\n<table border=\"1\" class=\"dataframe\">\n  <thead>\n    <tr style=\"text-align: right;\">\n      <th></th>\n      <th>favorites</th>\n      <th>retweets</th>\n      <th>fav_to_followers_ratio</th>\n      <th>rt_to_followers_ratio</th>\n    </tr>\n    <tr>\n      <th>twitter_profile</th>\n      <th></th>\n      <th></th>\n      <th></th>\n      <th></th>\n    </tr>\n  </thead>\n  <tbody>\n    <tr>\n      <th>stoolpresidente</th>\n      <td>4653.894998</td>\n      <td>394.327742</td>\n      <td>0.002578</td>\n      <td>0.000218</td>\n    </tr>\n    <tr>\n      <th>PFTCommenter</th>\n      <td>1557.508268</td>\n      <td>125.150390</td>\n      <td>0.002022</td>\n      <td>0.000162</td>\n    </tr>\n    <tr>\n      <th>BarstoolBigCat</th>\n      <td>1394.484322</td>\n      <td>178.650109</td>\n      <td>0.001264</td>\n      <td>0.000162</td>\n    </tr>\n    <tr>\n      <th>BillSimmons</th>\n      <td>898.482759</td>\n      <td>196.097970</td>\n      <td>0.000155</td>\n      <td>0.000034</td>\n    </tr>\n    <tr>\n      <th>netw3rk</th>\n      <td>861.236760</td>\n      <td>1014.452648</td>\n      <td>0.003679</td>\n      <td>0.004334</td>\n    </tr>\n    <tr>\n      <th>KFCBarstool</th>\n      <td>560.171953</td>\n      <td>388.717040</td>\n      <td>0.001425</td>\n      <td>0.000989</td>\n    </tr>\n    <tr>\n      <th>EKANardini</th>\n      <td>333.800997</td>\n      <td>147.151666</td>\n      <td>0.001642</td>\n      <td>0.000724</td>\n    </tr>\n    <tr>\n      <th>MalloryRubin</th>\n      <td>194.550541</td>\n      <td>550.679444</td>\n      <td>0.001417</td>\n      <td>0.004011</td>\n    </tr>\n    <tr>\n      <th>micahpeters_</th>\n      <td>87.214803</td>\n      <td>2121.578268</td>\n      <td>0.002814</td>\n      <td>0.068442</td>\n    </tr>\n    <tr>\n      <th>ChrisRyan77</th>\n      <td>34.680672</td>\n      <td>23.638967</td>\n      <td>0.000269</td>\n      <td>0.000183</td>\n    </tr>\n  </tbody>\n</table>\n</div>"
     },
     "metadata": {},
     "execution_count": 7
    }
   ],
   "source": [
    "top5_df = df[df['twitter_profile'].isin(top5)]\n",
    "top5_df.groupby('twitter_profile').agg({'favorites':'mean','retweets':'mean','fav_to_followers_ratio':'mean','rt_to_followers_ratio':'mean'}).sort_values('favorites',ascending=False)"
   ]
  },
  {
   "cell_type": "code",
   "execution_count": null,
   "metadata": {},
   "outputs": [],
   "source": []
  }
 ]
}